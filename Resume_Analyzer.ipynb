{
 "cells": [
  {
   "cell_type": "code",
   "execution_count": 1,
   "metadata": {
    "colab": {
     "base_uri": "https://localhost:8080/"
    },
    "id": "z8WA5f0fne-q",
    "outputId": "ebb4afc9-4c16-41a4-d129-dc4208db40e0",
    "scrolled": true
   },
   "outputs": [],
   "source": [
    "# !pip install langchain\n",
    "# !pip install langchain-openai"
   ]
  },
  {
   "cell_type": "code",
   "execution_count": 2,
   "metadata": {
    "id": "vUFSOmrNniL8"
   },
   "outputs": [],
   "source": [
    "from langchain_openai import OpenAIEmbeddings"
   ]
  },
  {
   "cell_type": "code",
   "execution_count": 3,
   "metadata": {
    "colab": {
     "base_uri": "https://localhost:8080/"
    },
    "id": "hHY1L0_cTj12",
    "outputId": "d725f721-0c9e-443e-e666-3943a3aea8d0",
    "scrolled": true
   },
   "outputs": [],
   "source": [
    "# !pip install langchain\n",
    "# !pip install openai\n",
    "# !pip install PyPDF2\n",
    "# !pip install faiss-cpu\n",
    "# !pip install tiktoken\n",
    "# !pip install typing-inspect==0.8.0\n",
    "# !pip install typing_extensions==4.5.0\n",
    "# !pip install pydantic==1.10.11"
   ]
  },
  {
   "cell_type": "code",
   "execution_count": 4,
   "metadata": {
    "id": "14s4Pw3dToNS"
   },
   "outputs": [],
   "source": [
    "from PyPDF2 import PdfReader\n",
    "# from langchain.embeddings.openai import OpenAIEmbeddings\n",
    "# from langchain.embeddings import OpenAIEmbeddings\n",
    "from langchain.text_splitter import CharacterTextSplitter\n",
    "from langchain.vectorstores import FAISS"
   ]
  },
  {
   "cell_type": "code",
   "execution_count": 5,
   "metadata": {
    "id": "sktMK0r6T4DR"
   },
   "outputs": [],
   "source": [
    "import os\n",
    "os.environ[\"OPENAI_API_KEY\"] = \"sk-proj-gZn62Lvf7o8AL1p78N0ET3BlbkFJrZlxbvq060o7TBPqoGFP\""
   ]
  },
  {
   "cell_type": "code",
   "execution_count": 6,
   "metadata": {
    "id": "Mb0YMF6UT9Kk"
   },
   "outputs": [],
   "source": [
    "pdfreader = PdfReader('Anubhav Hooda Resume.pdf')\n",
    "# job_reader = PdfReader(job_description.)"
   ]
  },
  {
   "cell_type": "code",
   "execution_count": 7,
   "metadata": {
    "id": "bkWX0ms_UT-o"
   },
   "outputs": [],
   "source": [
    "from typing_extensions import Concatenate\n",
    "# read text from pdf\n",
    "raw_text = ''\n",
    "for i, page in enumerate(pdfreader.pages):\n",
    "    content = page.extract_text()\n",
    "    if content:\n",
    "        raw_text += content"
   ]
  },
  {
   "cell_type": "code",
   "execution_count": 8,
   "metadata": {
    "id": "fWwLuUBvUWwI"
   },
   "outputs": [
    {
     "name": "stdout",
     "output_type": "stream",
     "text": [
      "['Anubhav Hooda 1 Anubhav Hooda Web3 Developer and Blockchain Connoisseur  Advanced Machine Learning Skills , CyberSec Enthusiast Jenkins and Ansible  Contact +91 9911865100 hoodaanubhav@gmail.comNew Delhi, India https://www .linkedin.com/in/anubhavera/ Professional Aspect I have worked on WEB3 projects in the past using Solidity . I like to keep myself updated   on the fundamentals of Crypto coins and Blockchain . Recently full throttled into Machine Learning and Created the Depression detection   model that works on S-MRI and f-MRI scans to detect the absolute ef fects and parts of   brain af fected due to depression.  Developed the prototype of Robotic Arm controlled autonomously by Reinforcement   Learning ranging from Hardware designs in SolidW orks to Software simulations in', 'brain af fected due to depression.  Developed the prototype of Robotic Arm controlled autonomously by Reinforcement   Learning ranging from Hardware designs in SolidW orks to Software simulations in   Mujoco using OpenAI’ s Gym. Education 2021 – 2025 Galgotia’ s College of Engineering and T ech.Anubhav Hooda 2Bachelor of Technology in Computer Science and   Engineering Will Graduate 2025 2007 – 2021 Vishal Bharti Public School  High School Graduated 2021 with 85% in CBSE Boards Expertise Expertise Name Percent Skill Web3 75% Technical Blockchain 85% Personal Machine Learning 80% Technical Python 90% Language Ansible 75% Technical Jenkins 90% Technical HTML  & CSS 90% Technical Solidity 40% Language JavaScript 70% Technical Linux 75% Technical Microsoft Of fice 90% Technical', 'Python 90% Language Ansible 75% Technical Jenkins 90% Technical HTML  & CSS 90% Technical Solidity 40% Language JavaScript 70% Technical Linux 75% Technical Microsoft Of fice 90% Technical Data Base Management 44% Personal Anubhav Hooda 3Main projects  Side projects NameActiveLinkTimeframe Reinforcement Learning to Train Robotic Armhttps://www .linkedin.com/posts/anubhaveraroboticarm- reinforcementlearning-computervision-activity- 7121465195511627776-4uLJ? utmsource=share&utmmedium=memberdesktop2022 – today Depression Detection Using ML trained on f- MRI scanshttps://byburk.net2022 - today Web3 Marketplacehttps://shop.byburk.net2021 - today GPT4 embedded Chrome Extension Skin Disease Detection ML Remote Admin Tool']\n"
     ]
    }
   ],
   "source": [
    "text_splitter = CharacterTextSplitter(\n",
    "    separator = \"\\n\",\n",
    "    chunk_size = 800,\n",
    "    chunk_overlap  = 200,\n",
    "    length_function = len,\n",
    ")\n",
    "texts = text_splitter.split_text(raw_text)\n",
    "cleaned_texts = [chunk.replace(\"\\n\", \" \") for chunk in texts]\n",
    "cleaned_texts = [chunk.replace(\"_\", \"\") for chunk in cleaned_texts ]\n",
    "# cleaned_texts = re.sub('_{2,}', ' ', cleaned_texts)\n",
    "print(cleaned_texts)"
   ]
  },
  {
   "cell_type": "code",
   "execution_count": 9,
   "metadata": {
    "id": "fCEJWAssnWce"
   },
   "outputs": [],
   "source": [
    "from langchain_openai import OpenAIEmbeddings\n",
    "embeddings = OpenAIEmbeddings()"
   ]
  },
  {
   "cell_type": "code",
   "execution_count": 10,
   "metadata": {
    "id": "UwEORuFUYOfU"
   },
   "outputs": [],
   "source": [
    "document_search = FAISS.from_texts(cleaned_texts, embeddings)"
   ]
  },
  {
   "cell_type": "code",
   "execution_count": 11,
   "metadata": {
    "id": "et49VjpVZAXc"
   },
   "outputs": [],
   "source": [
    "from langchain.chains.question_answering import load_qa_chain\n",
    "from langchain.llms import OpenAI"
   ]
  },
  {
   "cell_type": "code",
   "execution_count": 12,
   "metadata": {
    "id": "FjKjmfFNZB4s"
   },
   "outputs": [
    {
     "name": "stderr",
     "output_type": "stream",
     "text": [
      "C:\\Users\\hooda\\anaconda3\\Lib\\site-packages\\langchain_core\\_api\\deprecation.py:119: LangChainDeprecationWarning: The class `OpenAI` was deprecated in LangChain 0.0.10 and will be removed in 0.3.0. An updated version of the class exists in the langchain-openai package and should be used instead. To use it run `pip install -U langchain-openai` and import as `from langchain_openai import OpenAI`.\n",
      "  warn_deprecated(\n"
     ]
    }
   ],
   "source": [
    "chain = load_qa_chain(OpenAI(), chain_type=\"stuff\")"
   ]
  },
  {
   "cell_type": "code",
   "execution_count": 13,
   "metadata": {
    "colab": {
     "base_uri": "https://localhost:8080/",
     "height": 105
    },
    "id": "WQvXZDjDaLY6",
    "outputId": "04dd1d43-e1b8-40be-bb9a-09be7fca89b0"
   },
   "outputs": [
    {
     "name": "stderr",
     "output_type": "stream",
     "text": [
      "C:\\Users\\hooda\\anaconda3\\Lib\\site-packages\\langchain_core\\_api\\deprecation.py:119: LangChainDeprecationWarning: The method `Chain.run` was deprecated in langchain 0.1.0 and will be removed in 0.2.0. Use invoke instead.\n",
      "  warn_deprecated(\n"
     ]
    },
    {
     "data": {
      "text/plain": [
       "' The skills listed are Web3 (75%), Blockchain (85%, Personal), Machine Learning (80%), Python (90%, Language), Ansible (75%, Technical), Jenkins (90%, Technical), HTML & CSS (90%, Technical), Solidity (40%, Language), JavaScript (70%, Technical), Linux (75%, Technical), and Microsoft Office (90%, Technical).'"
      ]
     },
     "execution_count": 13,
     "metadata": {},
     "output_type": "execute_result"
    }
   ],
   "source": [
    "query = \"What are the skills?\"\n",
    "docs = document_search.similarity_search(query)\n",
    "chain.run(input_documents=docs, question=query)"
   ]
  },
  {
   "cell_type": "code",
   "execution_count": 14,
   "metadata": {
    "colab": {
     "base_uri": "https://localhost:8080/",
     "height": 53
    },
    "id": "I0ZmaICaaLoS",
    "outputId": "7bebc922-7e8c-48fa-da56-5163de6d57d1"
   },
   "outputs": [
    {
     "data": {
      "text/plain": [
       "' The projects mentioned are: \\n1) Reinforcement Learning to Train Robotic Arm \\n2) Depression Detection Using ML trained on f-MRI scans \\n3) Web3 Marketplace.'"
      ]
     },
     "execution_count": 14,
     "metadata": {},
     "output_type": "execute_result"
    }
   ],
   "source": [
    "query = \"What are the projects?\"\n",
    "docs = document_search.similarity_search(query)\n",
    "chain.run(input_documents=docs, question=query)"
   ]
  },
  {
   "cell_type": "code",
   "execution_count": 15,
   "metadata": {
    "colab": {
     "base_uri": "https://localhost:8080/",
     "height": 36
    },
    "id": "29m1IkXTaLsA",
    "outputId": "407edc4c-d1fd-45c5-d518-ea440fedbac8"
   },
   "outputs": [
    {
     "data": {
      "text/plain": [
       "\"\\nBased on the candidate's resume, Anubhav Hooda appears to have a strong technical background and a passion for emerging technologies such as Blockchain and Machine Learning. However, there are also some areas for improvement that should be considered.\\n\\nIn terms of technical skills, Anubhav has a solid understanding of various technologies such as Python, Jenkins, Ansible, HTML & CSS, and Linux, with a strong proficiency in Python at 90%. The candidate also has some experience with Solidity and JavaScript, although their proficiency in these languages appears to be lower at 40% and 70%, respectively. Overall, the candidate's technical skills seem to align well with the requirements for a Back End Software Engineer position.\\n\\nIn terms of experience, Anubhav mentions working on WEB3 projects in the past using Solidity, which shows a practical application of their skills. Additionally, their work on a Depression Detection model using Machine Learning trained on f-MRI scans is impressive and demonstrates their ability to work with complex technologies and datasets. However, the candidate's experience seems to be limited to side projects and internships, rather than full-time professional experience. This could be seen as a potential area for improvement, as it may take some time for the candidate to adjust to the\""
      ]
     },
     "execution_count": 15,
     "metadata": {},
     "output_type": "execute_result"
    }
   ],
   "source": [
    "query = \"You are a seasoned recruiter tasked with evaluating the suitability of a candidate for the position of Back End Software Engineer based on their resume. Your assessment should be thorough and insightful, reflecting both the candidate's qualifications and the specific requirements outlined in the job description. Consider the candidate's technical skills, experience, and potential cultural fit within the organization. Provide a detailed analysis, including a numerical rating from 1 to 10 along with a comprehensive explanation justifying the score. Take into account both the strengths and areas for improvement highlighted in the resume and how well they align with the responsibilities and expectations outlined in the job description. Aim for a holistic assessment that goes beyond surface-level evaluation.\"\n",
    "docs = document_search.similarity_search(query)\n",
    "chain.run(input_documents=docs, question=query)"
   ]
  },
  {
   "cell_type": "code",
   "execution_count": 16,
   "metadata": {},
   "outputs": [],
   "source": [
    "job_description = \"\"\"\n",
    "    The Back End Software Engineer is responsible for the following:\n",
    "    • Develop server-side logic, definition and maintenance of the central database, and ensure high performance and responsiveness to requests from the front-end developers.\n",
    "    • Integrate user-facing elements developed by front-end developers with server-side applications.\n",
    "    • Collaborate with front-end developers, customers, users and Product Managers to establish objectives and design functional, cohesive codes to enhance the user experience.\n",
    "    • Keep abreast of novel technical concepts and markets.\n",
    "    • Provide technical leadership and documentation to developers and stakeholders.\n",
    "    • Apply usability procedures and principles as defined at the project or Product Line level or through customer input.\n",
    "    • Build prototypes, products and systems that meet the project quality standards and requirements.\n",
    "    • Contribute to and support re-use through common components that are well documented and tested\n",
    "    \"\"\""
   ]
  },
  {
   "cell_type": "code",
   "execution_count": 17,
   "metadata": {},
   "outputs": [],
   "source": [
    "def analyze_resume_job_match(cleaned_texts, job_description):    \n",
    "    query =  f\"Resume:\\n{cleaned_texts}\\n\\nJob Description:\\n{job_description}\\n\\n Analyze how well the resume matches the job description, \\\n",
    "        then Analyze the resume and provide an estimate percentage of how well it matches the job description\\\n",
    "        Additionally, provide critiques on the resume:\"\n",
    "    docs = document_search.similarity_search(query)\n",
    "    chain.run(input_documents=docs, question=query)"
   ]
  },
  {
   "cell_type": "code",
   "execution_count": 18,
   "metadata": {},
   "outputs": [],
   "source": [
    "analyze_resume_job_match(cleaned_texts,job_description)"
   ]
  },
  {
   "cell_type": "code",
   "execution_count": null,
   "metadata": {},
   "outputs": [],
   "source": []
  }
 ],
 "metadata": {
  "colab": {
   "include_colab_link": true,
   "provenance": []
  },
  "kernelspec": {
   "display_name": "Python 3 (ipykernel)",
   "language": "python",
   "name": "python3"
  },
  "language_info": {
   "codemirror_mode": {
    "name": "ipython",
    "version": 3
   },
   "file_extension": ".py",
   "mimetype": "text/x-python",
   "name": "python",
   "nbconvert_exporter": "python",
   "pygments_lexer": "ipython3",
   "version": "3.11.7"
  }
 },
 "nbformat": 4,
 "nbformat_minor": 1
}
